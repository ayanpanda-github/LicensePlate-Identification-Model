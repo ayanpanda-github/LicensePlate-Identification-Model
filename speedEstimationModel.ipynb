{
 "cells": [
  {
   "cell_type": "code",
   "execution_count": 2,
   "id": "6f8a2977",
   "metadata": {},
   "outputs": [
    {
     "name": "stdout",
     "output_type": "stream",
     "text": [
      "2.10.0\n"
     ]
    }
   ],
   "source": [
    "import tensorflow as tf\n",
    "print(tf.__version__)"
   ]
  },
  {
   "cell_type": "code",
   "execution_count": 3,
   "id": "2108ed15",
   "metadata": {},
   "outputs": [
    {
     "name": "stdout",
     "output_type": "stream",
     "text": [
      "Collecting python-git\n",
      "  Downloading python_git-2018.2.1-py3-none-any.whl (10 kB)\n",
      "Requirement already satisfied: send2trash in d:\\detection\\odas\\lib\\site-packages (from python-git) (1.8.0)\n",
      "Installing collected packages: python-git\n",
      "Successfully installed python-git-2018.2.1\n"
     ]
    }
   ],
   "source": [
    "!pip install python-git"
   ]
  },
  {
   "cell_type": "code",
   "execution_count": 4,
   "id": "bd11635f",
   "metadata": {},
   "outputs": [
    {
     "name": "stderr",
     "output_type": "stream",
     "text": [
      "Cloning into 'models'...\n",
      "Updating files:  49% (1631/3300)\n",
      "Updating files:  50% (1650/3300)\n",
      "Updating files:  51% (1683/3300)\n",
      "Updating files:  52% (1716/3300)\n",
      "Updating files:  53% (1749/3300)\n",
      "Updating files:  54% (1782/3300)\n",
      "Updating files:  55% (1815/3300)\n",
      "Updating files:  56% (1848/3300)\n",
      "Updating files:  57% (1881/3300)\n",
      "Updating files:  58% (1914/3300)\n",
      "Updating files:  59% (1947/3300)\n",
      "Updating files:  60% (1980/3300)\n",
      "Updating files:  61% (2013/3300)\n",
      "Updating files:  62% (2046/3300)\n",
      "Updating files:  63% (2079/3300)\n",
      "Updating files:  64% (2112/3300)\n",
      "Updating files:  65% (2145/3300)\n",
      "Updating files:  66% (2178/3300)\n",
      "Updating files:  67% (2211/3300)\n",
      "Updating files:  68% (2244/3300)\n",
      "Updating files:  69% (2277/3300)\n",
      "Updating files:  70% (2310/3300)\n",
      "Updating files:  71% (2343/3300)\n",
      "Updating files:  72% (2376/3300)\n",
      "Updating files:  73% (2409/3300)\n",
      "Updating files:  74% (2442/3300)\n",
      "Updating files:  75% (2475/3300)\n",
      "Updating files:  76% (2508/3300)\n",
      "Updating files:  77% (2541/3300)\n",
      "Updating files:  78% (2574/3300)\n",
      "Updating files:  79% (2607/3300)\n",
      "Updating files:  80% (2640/3300)\n",
      "Updating files:  81% (2673/3300)\n",
      "Updating files:  82% (2706/3300)\n",
      "Updating files:  83% (2739/3300)\n",
      "Updating files:  84% (2772/3300)\n",
      "Updating files:  85% (2805/3300)\n",
      "Updating files:  86% (2838/3300)\n",
      "Updating files:  87% (2871/3300)\n",
      "Updating files:  88% (2904/3300)\n",
      "Updating files:  89% (2937/3300)\n",
      "Updating files:  90% (2970/3300)\n",
      "Updating files:  91% (3003/3300)\n",
      "Updating files:  92% (3036/3300)\n",
      "Updating files:  93% (3069/3300)\n",
      "Updating files:  94% (3102/3300)\n",
      "Updating files:  95% (3135/3300)\n",
      "Updating files:  96% (3168/3300)\n",
      "Updating files:  97% (3201/3300)\n",
      "Updating files:  98% (3234/3300)\n",
      "Updating files:  99% (3267/3300)\n",
      "Updating files: 100% (3300/3300)\n",
      "Updating files: 100% (3300/3300), done.\n"
     ]
    }
   ],
   "source": [
    "!git clone https://github.com/tensorflow/models.git"
   ]
  },
  {
   "cell_type": "code",
   "execution_count": 3,
   "id": "992e85af",
   "metadata": {},
   "outputs": [
    {
     "data": {
      "text/plain": [
       "'D:\\\\Detection'"
      ]
     },
     "execution_count": 3,
     "metadata": {},
     "output_type": "execute_result"
    }
   ],
   "source": [
    "pwd"
   ]
  },
  {
   "cell_type": "code",
   "execution_count": 4,
   "id": "f6f0e109",
   "metadata": {},
   "outputs": [
    {
     "name": "stdout",
     "output_type": "stream",
     "text": [
      "D:\\Detection\\models\\research\n"
     ]
    }
   ],
   "source": [
    "cd D:/Detection/models/research"
   ]
  },
  {
   "cell_type": "code",
   "execution_count": 5,
   "id": "a353c3e4",
   "metadata": {},
   "outputs": [],
   "source": [
    "!protoc object_detection/protos/*.proto --python_out=."
   ]
  },
  {
   "cell_type": "code",
   "execution_count": 9,
   "id": "32b5523e",
   "metadata": {},
   "outputs": [
    {
     "name": "stderr",
     "output_type": "stream",
     "text": [
      "Cloning into 'cocoapi'...\n"
     ]
    }
   ],
   "source": [
    "!git clone https://github.com/cocodataset/cocoapi.git"
   ]
  },
  {
   "cell_type": "code",
   "execution_count": 6,
   "id": "ea53c3f1",
   "metadata": {},
   "outputs": [
    {
     "name": "stdout",
     "output_type": "stream",
     "text": [
      "D:\\Detection\\models\\research\\cocoapi\\PythonAPI\n"
     ]
    }
   ],
   "source": [
    "cd cocoapi/PythonAPI"
   ]
  },
  {
   "cell_type": "code",
   "execution_count": 10,
   "id": "519687e5",
   "metadata": {},
   "outputs": [
    {
     "name": "stdout",
     "output_type": "stream",
     "text": [
      "Collecting cython\n",
      "  Downloading Cython-0.29.33-py2.py3-none-any.whl (987 kB)\n",
      "     -------------------------------------- 987.3/987.3 kB 2.4 MB/s eta 0:00:00\n",
      "Installing collected packages: cython\n",
      "Successfully installed cython-0.29.33\n"
     ]
    }
   ],
   "source": [
    "!pip install cython"
   ]
  },
  {
   "cell_type": "code",
   "execution_count": 20,
   "id": "49f7e811",
   "metadata": {},
   "outputs": [],
   "source": [
    "!pip install -qq Cython contextlib2 pillow lxml matplotlib"
   ]
  },
  {
   "cell_type": "code",
   "execution_count": 14,
   "id": "a3be3049",
   "metadata": {},
   "outputs": [
    {
     "name": "stdout",
     "output_type": "stream",
     "text": [
      "Collecting pycocotools\n",
      "  Using cached pycocotools-2.0.6-cp310-cp310-win_amd64.whl\n",
      "Collecting matplotlib>=2.1.0\n",
      "  Using cached matplotlib-3.6.2-cp310-cp310-win_amd64.whl (7.2 MB)\n",
      "Requirement already satisfied: numpy in d:\\detection\\odas\\lib\\site-packages (from pycocotools) (1.24.1)\n",
      "Collecting pyparsing>=2.2.1\n",
      "  Using cached pyparsing-3.0.9-py3-none-any.whl (98 kB)\n",
      "Requirement already satisfied: python-dateutil>=2.7 in d:\\detection\\odas\\lib\\site-packages (from matplotlib>=2.1.0->pycocotools) (2.8.2)\n",
      "Collecting pillow>=6.2.0\n",
      "  Downloading Pillow-9.4.0-cp310-cp310-win_amd64.whl (2.5 MB)\n",
      "     ---------------------------------------- 2.5/2.5 MB 2.4 MB/s eta 0:00:00\n",
      "Collecting contourpy>=1.0.1\n",
      "  Using cached contourpy-1.0.6-cp310-cp310-win_amd64.whl (163 kB)\n",
      "Collecting cycler>=0.10\n",
      "  Using cached cycler-0.11.0-py3-none-any.whl (6.4 kB)\n",
      "Requirement already satisfied: packaging>=20.0 in d:\\detection\\odas\\lib\\site-packages (from matplotlib>=2.1.0->pycocotools) (22.0)\n",
      "Collecting fonttools>=4.22.0\n",
      "  Using cached fonttools-4.38.0-py3-none-any.whl (965 kB)\n",
      "Collecting kiwisolver>=1.0.1\n",
      "  Using cached kiwisolver-1.4.4-cp310-cp310-win_amd64.whl (55 kB)\n",
      "Requirement already satisfied: six>=1.5 in d:\\detection\\odas\\lib\\site-packages (from python-dateutil>=2.7->matplotlib>=2.1.0->pycocotools) (1.16.0)\n",
      "Installing collected packages: pyparsing, pillow, kiwisolver, fonttools, cycler, contourpy, matplotlib, pycocotools\n",
      "Successfully installed contourpy-1.0.6 cycler-0.11.0 fonttools-4.38.0 kiwisolver-1.4.4 matplotlib-3.6.2 pillow-9.4.0 pycocotools-2.0.6 pyparsing-3.0.9\n"
     ]
    }
   ],
   "source": [
    "!pip install pycocotools"
   ]
  },
  {
   "cell_type": "code",
   "execution_count": 17,
   "id": "4e673083",
   "metadata": {},
   "outputs": [
    {
     "name": "stdout",
     "output_type": "stream",
     "text": [
      "running build_ext\n",
      "skipping 'pycocotools\\_mask.c' Cython extension (up-to-date)\n"
     ]
    }
   ],
   "source": [
    "!python setup.py build_ext"
   ]
  },
  {
   "cell_type": "code",
   "execution_count": 16,
   "id": "35850d0b",
   "metadata": {},
   "outputs": [
    {
     "data": {
      "text/plain": [
       "'D:\\\\Detection\\\\models\\\\research\\\\cocoapi\\\\PythonAPI'"
      ]
     },
     "execution_count": 16,
     "metadata": {},
     "output_type": "execute_result"
    }
   ],
   "source": [
    "pwd"
   ]
  },
  {
   "cell_type": "code",
   "execution_count": 21,
   "id": "3ef5741b",
   "metadata": {},
   "outputs": [],
   "source": [
    "import os"
   ]
  },
  {
   "cell_type": "code",
   "execution_count": 24,
   "id": "5cc5e5f4",
   "metadata": {},
   "outputs": [
    {
     "name": "stdout",
     "output_type": "stream",
     "text": [
      "Collecting cp\n",
      "  Downloading cp-2020.12.3.tar.gz (1.4 kB)\n",
      "  Preparing metadata (setup.py): started\n",
      "  Preparing metadata (setup.py): finished with status 'done'\n",
      "Building wheels for collected packages: cp\n",
      "  Building wheel for cp (setup.py): started\n",
      "  Building wheel for cp (setup.py): finished with status 'done'\n",
      "  Created wheel for cp: filename=cp-2020.12.3-py3-none-any.whl size=1422 sha256=bd4f949fd29699dd2e3601addc73db04f62c06d6d51a818b7650299170199935\n",
      "  Stored in directory: c:\\users\\dhruv\\appdata\\local\\pip\\cache\\wheels\\d4\\99\\7e\\efb80acb0279492866e91fb23b07768dab567d1e6892ab6767\n",
      "Successfully built cp\n",
      "Installing collected packages: cp\n",
      "Successfully installed cp-2020.12.3\n"
     ]
    }
   ],
   "source": [
    "!pip install cp"
   ]
  },
  {
   "cell_type": "code",
   "execution_count": 26,
   "id": "1ec8ee7b",
   "metadata": {},
   "outputs": [
    {
     "data": {
      "text/plain": [
       "'D:\\\\Detection\\\\models\\\\research\\\\cocoapi\\\\PythonAPI'"
      ]
     },
     "execution_count": 26,
     "metadata": {},
     "output_type": "execute_result"
    }
   ],
   "source": [
    "pwd"
   ]
  },
  {
   "cell_type": "code",
   "execution_count": 27,
   "id": "34d9334c",
   "metadata": {},
   "outputs": [
    {
     "name": "stdout",
     "output_type": "stream",
     "text": [
      "D:\\Detection\\models\\research\\cocoapi\n"
     ]
    }
   ],
   "source": [
    "cd .."
   ]
  },
  {
   "cell_type": "code",
   "execution_count": 28,
   "id": "bf63bb7a",
   "metadata": {},
   "outputs": [
    {
     "name": "stdout",
     "output_type": "stream",
     "text": [
      "D:\\Detection\\models\\research\n"
     ]
    }
   ],
   "source": [
    "cd .."
   ]
  },
  {
   "cell_type": "code",
   "execution_count": 32,
   "id": "7a1654f0",
   "metadata": {},
   "outputs": [
    {
     "name": "stdout",
     "output_type": "stream",
     "text": [
      "Requirement already satisfied: wheel in d:\\detection\\odas\\lib\\site-packages (0.37.1)\n"
     ]
    }
   ],
   "source": [
    "!pip install wheel"
   ]
  },
  {
   "cell_type": "code",
   "execution_count": 33,
   "id": "07ad1f65",
   "metadata": {},
   "outputs": [
    {
     "name": "stdout",
     "output_type": "stream",
     "text": [
      "Requirement already satisfied: pip in d:\\detection\\odas\\lib\\site-packages (22.3.1)\n"
     ]
    }
   ],
   "source": [
    "!python -m pip install --upgrade pip"
   ]
  },
  {
   "cell_type": "code",
   "execution_count": 31,
   "id": "49cc143b",
   "metadata": {},
   "outputs": [
    {
     "name": "stderr",
     "output_type": "stream",
     "text": [
      "\n",
      "Usage:   \n",
      "  D:\\Detection\\odas\\python.exe -m pip install [options] <requirement specifier> [package-index-options] ...\n",
      "  D:\\Detection\\odas\\python.exe -m pip install [options] -r <requirements file> [package-index-options] ...\n",
      "  D:\\Detection\\odas\\python.exe -m pip install [options] [-e] <vcs project url> ...\n",
      "  D:\\Detection\\odas\\python.exe -m pip install [options] [-e] <local project path> ...\n",
      "  D:\\Detection\\odas\\python.exe -m pip install [options] <archive url/path> ...\n",
      "\n",
      "option --use-feature: invalid choice: '2020-resolver' (choose from 'fast-deps', 'truststore', 'no-binary-enable-wheel-cache')\n"
     ]
    }
   ],
   "source": [
    "!python -m pip install --use-feature=2020-resolver ."
   ]
  },
  {
   "cell_type": "code",
   "execution_count": 34,
   "id": "5e09aa8c",
   "metadata": {},
   "outputs": [
    {
     "data": {
      "text/plain": [
       "'D:\\\\Detection\\\\models\\\\research'"
      ]
     },
     "execution_count": 34,
     "metadata": {},
     "output_type": "execute_result"
    }
   ],
   "source": [
    "pwd"
   ]
  },
  {
   "cell_type": "code",
   "execution_count": 36,
   "id": "d3077880",
   "metadata": {},
   "outputs": [
    {
     "name": "stdout",
     "output_type": "stream",
     "text": [
      "Collecting tensorflow-object-detection-api\n",
      "  Downloading tensorflow_object_detection_api-0.1.1.tar.gz (577 kB)\n",
      "     -------------------------------------- 577.4/577.4 kB 3.0 MB/s eta 0:00:00\n",
      "  Preparing metadata (setup.py): started\n",
      "  Preparing metadata (setup.py): finished with status 'done'\n",
      "Requirement already satisfied: Pillow>=1.0 in d:\\detection\\odas\\lib\\site-packages (from tensorflow-object-detection-api) (9.4.0)\n",
      "Requirement already satisfied: Matplotlib>=2.1 in d:\\detection\\odas\\lib\\site-packages (from tensorflow-object-detection-api) (3.6.2)\n",
      "Requirement already satisfied: Cython>=0.28.1 in d:\\detection\\odas\\lib\\site-packages (from tensorflow-object-detection-api) (0.29.33)\n",
      "Requirement already satisfied: Protobuf in d:\\detection\\odas\\lib\\site-packages (from tensorflow-object-detection-api) (3.19.6)\n",
      "Requirement already satisfied: lxml in d:\\detection\\odas\\lib\\site-packages (from tensorflow-object-detection-api) (4.9.1)\n",
      "Collecting jupyter\n",
      "  Using cached jupyter-1.0.0-py2.py3-none-any.whl (2.7 kB)\n",
      "Requirement already satisfied: tensorflow in d:\\detection\\odas\\lib\\site-packages (from tensorflow-object-detection-api) (2.11.0)\n",
      "Requirement already satisfied: contextlib2 in d:\\detection\\odas\\lib\\site-packages (from tensorflow-object-detection-api) (21.6.0)\n",
      "Requirement already satisfied: wheel in d:\\detection\\odas\\lib\\site-packages (from tensorflow-object-detection-api) (0.37.1)\n",
      "Collecting twine\n",
      "  Downloading twine-4.0.2-py3-none-any.whl (36 kB)\n",
      "Requirement already satisfied: cycler>=0.10 in d:\\detection\\odas\\lib\\site-packages (from Matplotlib>=2.1->tensorflow-object-detection-api) (0.11.0)\n",
      "Requirement already satisfied: packaging>=20.0 in d:\\detection\\odas\\lib\\site-packages (from Matplotlib>=2.1->tensorflow-object-detection-api) (22.0)\n",
      "Requirement already satisfied: kiwisolver>=1.0.1 in d:\\detection\\odas\\lib\\site-packages (from Matplotlib>=2.1->tensorflow-object-detection-api) (1.4.4)\n",
      "Requirement already satisfied: python-dateutil>=2.7 in d:\\detection\\odas\\lib\\site-packages (from Matplotlib>=2.1->tensorflow-object-detection-api) (2.8.2)\n",
      "Requirement already satisfied: numpy>=1.19 in d:\\detection\\odas\\lib\\site-packages (from Matplotlib>=2.1->tensorflow-object-detection-api) (1.24.1)\n",
      "Requirement already satisfied: pyparsing>=2.2.1 in d:\\detection\\odas\\lib\\site-packages (from Matplotlib>=2.1->tensorflow-object-detection-api) (3.0.9)\n",
      "Requirement already satisfied: contourpy>=1.0.1 in d:\\detection\\odas\\lib\\site-packages (from Matplotlib>=2.1->tensorflow-object-detection-api) (1.0.6)\n",
      "Requirement already satisfied: fonttools>=4.22.0 in d:\\detection\\odas\\lib\\site-packages (from Matplotlib>=2.1->tensorflow-object-detection-api) (4.38.0)\n",
      "Requirement already satisfied: nbconvert in d:\\detection\\odas\\lib\\site-packages (from jupyter->tensorflow-object-detection-api) (7.2.7)\n",
      "Requirement already satisfied: ipykernel in d:\\detection\\odas\\lib\\site-packages (from jupyter->tensorflow-object-detection-api) (6.19.4)\n",
      "Requirement already satisfied: jupyter-console in d:\\detection\\odas\\lib\\site-packages (from jupyter->tensorflow-object-detection-api) (6.4.4)\n",
      "Collecting notebook\n",
      "  Using cached notebook-6.5.2-py3-none-any.whl (439 kB)\n",
      "Requirement already satisfied: qtconsole in d:\\detection\\odas\\lib\\site-packages (from jupyter->tensorflow-object-detection-api) (5.4.0)\n",
      "Requirement already satisfied: ipywidgets in d:\\detection\\odas\\lib\\site-packages (from jupyter->tensorflow-object-detection-api) (8.0.4)\n",
      "Requirement already satisfied: tensorflow-intel==2.11.0 in d:\\detection\\odas\\lib\\site-packages (from tensorflow->tensorflow-object-detection-api) (2.11.0)\n",
      "Collecting keras<2.12,>=2.11.0\n",
      "  Using cached keras-2.11.0-py2.py3-none-any.whl (1.7 MB)\n",
      "Requirement already satisfied: absl-py>=1.0.0 in d:\\detection\\odas\\lib\\site-packages (from tensorflow-intel==2.11.0->tensorflow->tensorflow-object-detection-api) (1.3.0)\n",
      "Requirement already satisfied: six>=1.12.0 in d:\\detection\\odas\\lib\\site-packages (from tensorflow-intel==2.11.0->tensorflow->tensorflow-object-detection-api) (1.16.0)\n",
      "Requirement already satisfied: libclang>=13.0.0 in d:\\detection\\odas\\lib\\site-packages (from tensorflow-intel==2.11.0->tensorflow->tensorflow-object-detection-api) (14.0.6)\n",
      "Requirement already satisfied: flatbuffers>=2.0 in d:\\detection\\odas\\lib\\site-packages (from tensorflow-intel==2.11.0->tensorflow->tensorflow-object-detection-api) (23.1.4)\n",
      "Requirement already satisfied: termcolor>=1.1.0 in d:\\detection\\odas\\lib\\site-packages (from tensorflow-intel==2.11.0->tensorflow->tensorflow-object-detection-api) (2.2.0)\n",
      "Requirement already satisfied: h5py>=2.9.0 in d:\\detection\\odas\\lib\\site-packages (from tensorflow-intel==2.11.0->tensorflow->tensorflow-object-detection-api) (3.7.0)\n",
      "Requirement already satisfied: gast<=0.4.0,>=0.2.1 in d:\\detection\\odas\\lib\\site-packages (from tensorflow-intel==2.11.0->tensorflow->tensorflow-object-detection-api) (0.4.0)\n",
      "Requirement already satisfied: grpcio<2.0,>=1.24.3 in d:\\detection\\odas\\lib\\site-packages (from tensorflow-intel==2.11.0->tensorflow->tensorflow-object-detection-api) (1.51.1)\n",
      "Requirement already satisfied: google-pasta>=0.1.1 in d:\\detection\\odas\\lib\\site-packages (from tensorflow-intel==2.11.0->tensorflow->tensorflow-object-detection-api) (0.2.0)\n",
      "Requirement already satisfied: setuptools in d:\\detection\\odas\\lib\\site-packages (from tensorflow-intel==2.11.0->tensorflow->tensorflow-object-detection-api) (65.5.0)\n",
      "Requirement already satisfied: wrapt>=1.11.0 in d:\\detection\\odas\\lib\\site-packages (from tensorflow-intel==2.11.0->tensorflow->tensorflow-object-detection-api) (1.14.1)\n",
      "Collecting tensorflow-estimator<2.12,>=2.11.0\n",
      "  Using cached tensorflow_estimator-2.11.0-py2.py3-none-any.whl (439 kB)\n",
      "Collecting tensorboard<2.12,>=2.11\n",
      "  Using cached tensorboard-2.11.0-py3-none-any.whl (6.0 MB)\n",
      "Requirement already satisfied: tensorflow-io-gcs-filesystem>=0.23.1 in d:\\detection\\odas\\lib\\site-packages (from tensorflow-intel==2.11.0->tensorflow->tensorflow-object-detection-api) (0.29.0)\n",
      "Requirement already satisfied: astunparse>=1.6.0 in d:\\detection\\odas\\lib\\site-packages (from tensorflow-intel==2.11.0->tensorflow->tensorflow-object-detection-api) (1.6.3)\n",
      "Requirement already satisfied: opt-einsum>=2.3.2 in d:\\detection\\odas\\lib\\site-packages (from tensorflow-intel==2.11.0->tensorflow->tensorflow-object-detection-api) (3.3.0)\n",
      "Requirement already satisfied: typing-extensions>=3.6.6 in d:\\detection\\odas\\lib\\site-packages (from tensorflow-intel==2.11.0->tensorflow->tensorflow-object-detection-api) (4.4.0)\n",
      "Requirement already satisfied: urllib3>=1.26.0 in d:\\detection\\odas\\lib\\site-packages (from twine->tensorflow-object-detection-api) (1.26.13)\n",
      "Collecting requests-toolbelt!=0.9.0,>=0.8.0\n",
      "  Downloading requests_toolbelt-0.10.1-py2.py3-none-any.whl (54 kB)\n",
      "     ---------------------------------------- 54.5/54.5 kB 2.8 MB/s eta 0:00:00\n",
      "Requirement already satisfied: requests>=2.20 in d:\\detection\\odas\\lib\\site-packages (from twine->tensorflow-object-detection-api) (2.28.1)\n",
      "Requirement already satisfied: keyring>=15.1 in d:\\detection\\odas\\lib\\site-packages (from twine->tensorflow-object-detection-api) (23.4.0)\n",
      "Collecting readme-renderer>=35.0\n",
      "  Downloading readme_renderer-37.3-py3-none-any.whl (14 kB)\n",
      "Collecting rich>=12.0.0\n",
      "  Downloading rich-13.0.1-py3-none-any.whl (238 kB)\n",
      "     -------------------------------------- 238.1/238.1 kB 3.6 MB/s eta 0:00:00\n",
      "Collecting rfc3986>=1.4.0\n",
      "  Downloading rfc3986-2.0.0-py2.py3-none-any.whl (31 kB)\n",
      "Requirement already satisfied: importlib-metadata>=3.6 in d:\\detection\\odas\\lib\\site-packages (from twine->tensorflow-object-detection-api) (4.11.3)\n",
      "Collecting pkginfo>=1.8.1\n",
      "  Downloading pkginfo-1.9.6-py3-none-any.whl (30 kB)\n",
      "Requirement already satisfied: zipp>=0.5 in d:\\detection\\odas\\lib\\site-packages (from importlib-metadata>=3.6->twine->tensorflow-object-detection-api) (3.11.0)\n",
      "Requirement already satisfied: pywin32-ctypes!=0.1.0,!=0.1.1 in d:\\detection\\odas\\lib\\site-packages (from keyring>=15.1->twine->tensorflow-object-detection-api) (0.2.0)\n",
      "Requirement already satisfied: docutils>=0.13.1 in d:\\detection\\odas\\lib\\site-packages (from readme-renderer>=35.0->twine->tensorflow-object-detection-api) (0.18.1)\n",
      "Requirement already satisfied: bleach>=2.1.0 in d:\\detection\\odas\\lib\\site-packages (from readme-renderer>=35.0->twine->tensorflow-object-detection-api) (5.0.1)\n",
      "Requirement already satisfied: Pygments>=2.5.1 in d:\\detection\\odas\\lib\\site-packages (from readme-renderer>=35.0->twine->tensorflow-object-detection-api) (2.14.0)\n",
      "Requirement already satisfied: certifi>=2017.4.17 in d:\\detection\\odas\\lib\\site-packages (from requests>=2.20->twine->tensorflow-object-detection-api) (2022.12.7)\n",
      "Requirement already satisfied: idna<4,>=2.5 in d:\\detection\\odas\\lib\\site-packages (from requests>=2.20->twine->tensorflow-object-detection-api) (3.4)\n",
      "Requirement already satisfied: charset-normalizer<3,>=2 in d:\\detection\\odas\\lib\\site-packages (from requests>=2.20->twine->tensorflow-object-detection-api) (2.1.1)\n",
      "Collecting commonmark<0.10.0,>=0.9.0\n",
      "  Using cached commonmark-0.9.1-py2.py3-none-any.whl (51 kB)\n",
      "Requirement already satisfied: nest-asyncio in d:\\detection\\odas\\lib\\site-packages (from ipykernel->jupyter->tensorflow-object-detection-api) (1.5.6)\n",
      "Requirement already satisfied: ipython>=7.23.1 in d:\\detection\\odas\\lib\\site-packages (from ipykernel->jupyter->tensorflow-object-detection-api) (8.8.0)\n",
      "Requirement already satisfied: pyzmq>=17 in d:\\detection\\odas\\lib\\site-packages (from ipykernel->jupyter->tensorflow-object-detection-api) (24.0.1)\n",
      "Requirement already satisfied: tornado>=6.1 in d:\\detection\\odas\\lib\\site-packages (from ipykernel->jupyter->tensorflow-object-detection-api) (6.2)\n",
      "Requirement already satisfied: jupyter-client>=6.1.12 in d:\\detection\\odas\\lib\\site-packages (from ipykernel->jupyter->tensorflow-object-detection-api) (7.4.8)\n",
      "Requirement already satisfied: debugpy>=1.0 in d:\\detection\\odas\\lib\\site-packages (from ipykernel->jupyter->tensorflow-object-detection-api) (1.6.5)\n",
      "Requirement already satisfied: traitlets>=5.4.0 in d:\\detection\\odas\\lib\\site-packages (from ipykernel->jupyter->tensorflow-object-detection-api) (5.8.0)\n",
      "Requirement already satisfied: matplotlib-inline>=0.1 in d:\\detection\\odas\\lib\\site-packages (from ipykernel->jupyter->tensorflow-object-detection-api) (0.1.6)\n",
      "Requirement already satisfied: comm>=0.1.1 in d:\\detection\\odas\\lib\\site-packages (from ipykernel->jupyter->tensorflow-object-detection-api) (0.1.2)\n",
      "Requirement already satisfied: psutil in d:\\detection\\odas\\lib\\site-packages (from ipykernel->jupyter->tensorflow-object-detection-api) (5.9.4)\n",
      "Requirement already satisfied: jupyterlab-widgets~=3.0 in d:\\detection\\odas\\lib\\site-packages (from ipywidgets->jupyter->tensorflow-object-detection-api) (3.0.5)\n",
      "Requirement already satisfied: widgetsnbextension~=4.0 in d:\\detection\\odas\\lib\\site-packages (from ipywidgets->jupyter->tensorflow-object-detection-api) (4.0.5)\n",
      "Requirement already satisfied: prompt-toolkit!=3.0.0,!=3.0.1,<3.1.0,>=2.0.0 in d:\\detection\\odas\\lib\\site-packages (from jupyter-console->jupyter->tensorflow-object-detection-api) (3.0.36)\n",
      "Requirement already satisfied: jupyterlab-pygments in d:\\detection\\odas\\lib\\site-packages (from nbconvert->jupyter->tensorflow-object-detection-api) (0.2.2)\n",
      "Requirement already satisfied: beautifulsoup4 in d:\\detection\\odas\\lib\\site-packages (from nbconvert->jupyter->tensorflow-object-detection-api) (4.11.1)\n",
      "Requirement already satisfied: pandocfilters>=1.4.1 in d:\\detection\\odas\\lib\\site-packages (from nbconvert->jupyter->tensorflow-object-detection-api) (1.5.0)\n",
      "Requirement already satisfied: markupsafe>=2.0 in d:\\detection\\odas\\lib\\site-packages (from nbconvert->jupyter->tensorflow-object-detection-api) (2.1.1)\n",
      "Requirement already satisfied: nbformat>=5.1 in d:\\detection\\odas\\lib\\site-packages (from nbconvert->jupyter->tensorflow-object-detection-api) (5.7.1)\n",
      "Requirement already satisfied: nbclient>=0.5.0 in d:\\detection\\odas\\lib\\site-packages (from nbconvert->jupyter->tensorflow-object-detection-api) (0.7.2)\n",
      "Requirement already satisfied: jupyter-core>=4.7 in d:\\detection\\odas\\lib\\site-packages (from nbconvert->jupyter->tensorflow-object-detection-api) (5.1.2)\n",
      "Requirement already satisfied: defusedxml in d:\\detection\\odas\\lib\\site-packages (from nbconvert->jupyter->tensorflow-object-detection-api) (0.7.1)\n",
      "Requirement already satisfied: mistune<3,>=2.0.3 in d:\\detection\\odas\\lib\\site-packages (from nbconvert->jupyter->tensorflow-object-detection-api) (2.0.4)\n",
      "Requirement already satisfied: jinja2>=3.0 in d:\\detection\\odas\\lib\\site-packages (from nbconvert->jupyter->tensorflow-object-detection-api) (3.1.2)\n",
      "Requirement already satisfied: tinycss2 in d:\\detection\\odas\\lib\\site-packages (from nbconvert->jupyter->tensorflow-object-detection-api) (1.2.1)\n",
      "Requirement already satisfied: ipython-genutils in d:\\detection\\odas\\lib\\site-packages (from notebook->jupyter->tensorflow-object-detection-api) (0.2.0)\n",
      "Requirement already satisfied: terminado>=0.8.3 in d:\\detection\\odas\\lib\\site-packages (from notebook->jupyter->tensorflow-object-detection-api) (0.17.1)\n",
      "Requirement already satisfied: prometheus-client in d:\\detection\\odas\\lib\\site-packages (from notebook->jupyter->tensorflow-object-detection-api) (0.15.0)\n",
      "Requirement already satisfied: argon2-cffi in d:\\detection\\odas\\lib\\site-packages (from notebook->jupyter->tensorflow-object-detection-api) (21.3.0)\n",
      "Requirement already satisfied: Send2Trash>=1.8.0 in d:\\detection\\odas\\lib\\site-packages (from notebook->jupyter->tensorflow-object-detection-api) (1.8.0)\n",
      "Requirement already satisfied: nbclassic>=0.4.7 in d:\\detection\\odas\\lib\\site-packages (from notebook->jupyter->tensorflow-object-detection-api) (0.4.8)\n",
      "Requirement already satisfied: qtpy>=2.0.1 in d:\\detection\\odas\\lib\\site-packages (from qtconsole->jupyter->tensorflow-object-detection-api) (2.3.0)\n",
      "Requirement already satisfied: webencodings in d:\\detection\\odas\\lib\\site-packages (from bleach>=2.1.0->readme-renderer>=35.0->twine->tensorflow-object-detection-api) (0.5.1)\n",
      "Requirement already satisfied: colorama in d:\\detection\\odas\\lib\\site-packages (from ipython>=7.23.1->ipykernel->jupyter->tensorflow-object-detection-api) (0.4.6)\n",
      "Requirement already satisfied: decorator in d:\\detection\\odas\\lib\\site-packages (from ipython>=7.23.1->ipykernel->jupyter->tensorflow-object-detection-api) (5.1.1)\n",
      "Requirement already satisfied: jedi>=0.16 in d:\\detection\\odas\\lib\\site-packages (from ipython>=7.23.1->ipykernel->jupyter->tensorflow-object-detection-api) (0.18.2)\n",
      "Requirement already satisfied: pickleshare in d:\\detection\\odas\\lib\\site-packages (from ipython>=7.23.1->ipykernel->jupyter->tensorflow-object-detection-api) (0.7.5)\n",
      "Requirement already satisfied: stack-data in d:\\detection\\odas\\lib\\site-packages (from ipython>=7.23.1->ipykernel->jupyter->tensorflow-object-detection-api) (0.6.2)\n",
      "Requirement already satisfied: backcall in d:\\detection\\odas\\lib\\site-packages (from ipython>=7.23.1->ipykernel->jupyter->tensorflow-object-detection-api) (0.2.0)\n",
      "Requirement already satisfied: entrypoints in d:\\detection\\odas\\lib\\site-packages (from jupyter-client>=6.1.12->ipykernel->jupyter->tensorflow-object-detection-api) (0.4)\n",
      "Requirement already satisfied: platformdirs>=2.5 in d:\\detection\\odas\\lib\\site-packages (from jupyter-core>=4.7->nbconvert->jupyter->tensorflow-object-detection-api) (2.6.2)\n",
      "Requirement already satisfied: pywin32>=1.0 in d:\\detection\\odas\\lib\\site-packages (from jupyter-core>=4.7->nbconvert->jupyter->tensorflow-object-detection-api) (305.1)\n",
      "Requirement already satisfied: jupyter-server>=1.8 in d:\\detection\\odas\\lib\\site-packages (from nbclassic>=0.4.7->notebook->jupyter->tensorflow-object-detection-api) (2.0.6)\n",
      "Requirement already satisfied: notebook-shim>=0.1.0 in d:\\detection\\odas\\lib\\site-packages (from nbclassic>=0.4.7->notebook->jupyter->tensorflow-object-detection-api) (0.2.2)\n",
      "Requirement already satisfied: fastjsonschema in d:\\detection\\odas\\lib\\site-packages (from nbformat>=5.1->nbconvert->jupyter->tensorflow-object-detection-api) (2.16.2)\n",
      "Requirement already satisfied: jsonschema>=2.6 in d:\\detection\\odas\\lib\\site-packages (from nbformat>=5.1->nbconvert->jupyter->tensorflow-object-detection-api) (4.17.3)\n",
      "Requirement already satisfied: wcwidth in d:\\detection\\odas\\lib\\site-packages (from prompt-toolkit!=3.0.0,!=3.0.1,<3.1.0,>=2.0.0->jupyter-console->jupyter->tensorflow-object-detection-api) (0.2.5)\n",
      "Requirement already satisfied: tensorboard-data-server<0.7.0,>=0.6.0 in d:\\detection\\odas\\lib\\site-packages (from tensorboard<2.12,>=2.11->tensorflow-intel==2.11.0->tensorflow->tensorflow-object-detection-api) (0.6.1)\n",
      "Requirement already satisfied: werkzeug>=1.0.1 in d:\\detection\\odas\\lib\\site-packages (from tensorboard<2.12,>=2.11->tensorflow-intel==2.11.0->tensorflow->tensorflow-object-detection-api) (2.2.2)\n",
      "Requirement already satisfied: google-auth<3,>=1.6.3 in d:\\detection\\odas\\lib\\site-packages (from tensorboard<2.12,>=2.11->tensorflow-intel==2.11.0->tensorflow->tensorflow-object-detection-api) (2.15.0)\n",
      "Requirement already satisfied: tensorboard-plugin-wit>=1.6.0 in d:\\detection\\odas\\lib\\site-packages (from tensorboard<2.12,>=2.11->tensorflow-intel==2.11.0->tensorflow->tensorflow-object-detection-api) (1.8.1)\n",
      "Requirement already satisfied: google-auth-oauthlib<0.5,>=0.4.1 in d:\\detection\\odas\\lib\\site-packages (from tensorboard<2.12,>=2.11->tensorflow-intel==2.11.0->tensorflow->tensorflow-object-detection-api) (0.4.6)\n",
      "Requirement already satisfied: markdown>=2.6.8 in d:\\detection\\odas\\lib\\site-packages (from tensorboard<2.12,>=2.11->tensorflow-intel==2.11.0->tensorflow->tensorflow-object-detection-api) (3.4.1)\n",
      "Requirement already satisfied: pywinpty>=1.1.0 in d:\\detection\\odas\\lib\\site-packages (from terminado>=0.8.3->notebook->jupyter->tensorflow-object-detection-api) (2.0.10)\n",
      "Requirement already satisfied: argon2-cffi-bindings in d:\\detection\\odas\\lib\\site-packages (from argon2-cffi->notebook->jupyter->tensorflow-object-detection-api) (21.2.0)\n",
      "Requirement already satisfied: soupsieve>1.2 in d:\\detection\\odas\\lib\\site-packages (from beautifulsoup4->nbconvert->jupyter->tensorflow-object-detection-api) (2.3.2.post1)\n",
      "Requirement already satisfied: pyasn1-modules>=0.2.1 in d:\\detection\\odas\\lib\\site-packages (from google-auth<3,>=1.6.3->tensorboard<2.12,>=2.11->tensorflow-intel==2.11.0->tensorflow->tensorflow-object-detection-api) (0.2.8)\n",
      "Requirement already satisfied: cachetools<6.0,>=2.0.0 in d:\\detection\\odas\\lib\\site-packages (from google-auth<3,>=1.6.3->tensorboard<2.12,>=2.11->tensorflow-intel==2.11.0->tensorflow->tensorflow-object-detection-api) (5.2.0)\n",
      "Requirement already satisfied: rsa<5,>=3.1.4 in d:\\detection\\odas\\lib\\site-packages (from google-auth<3,>=1.6.3->tensorboard<2.12,>=2.11->tensorflow-intel==2.11.0->tensorflow->tensorflow-object-detection-api) (4.9)\n",
      "Requirement already satisfied: requests-oauthlib>=0.7.0 in d:\\detection\\odas\\lib\\site-packages (from google-auth-oauthlib<0.5,>=0.4.1->tensorboard<2.12,>=2.11->tensorflow-intel==2.11.0->tensorflow->tensorflow-object-detection-api) (1.3.1)\n",
      "Requirement already satisfied: parso<0.9.0,>=0.8.0 in d:\\detection\\odas\\lib\\site-packages (from jedi>=0.16->ipython>=7.23.1->ipykernel->jupyter->tensorflow-object-detection-api) (0.8.3)\n",
      "Requirement already satisfied: pyrsistent!=0.17.0,!=0.17.1,!=0.17.2,>=0.14.0 in d:\\detection\\odas\\lib\\site-packages (from jsonschema>=2.6->nbformat>=5.1->nbconvert->jupyter->tensorflow-object-detection-api) (0.19.3)\n",
      "Requirement already satisfied: attrs>=17.4.0 in d:\\detection\\odas\\lib\\site-packages (from jsonschema>=2.6->nbformat>=5.1->nbconvert->jupyter->tensorflow-object-detection-api) (22.2.0)\n",
      "Requirement already satisfied: anyio<4,>=3.1.0 in d:\\detection\\odas\\lib\\site-packages (from jupyter-server>=1.8->nbclassic>=0.4.7->notebook->jupyter->tensorflow-object-detection-api) (3.6.2)\n",
      "Requirement already satisfied: jupyter-server-terminals in d:\\detection\\odas\\lib\\site-packages (from jupyter-server>=1.8->nbclassic>=0.4.7->notebook->jupyter->tensorflow-object-detection-api) (0.4.3)\n",
      "Requirement already satisfied: jupyter-events>=0.4.0 in d:\\detection\\odas\\lib\\site-packages (from jupyter-server>=1.8->nbclassic>=0.4.7->notebook->jupyter->tensorflow-object-detection-api) (0.5.0)\n",
      "Requirement already satisfied: websocket-client in d:\\detection\\odas\\lib\\site-packages (from jupyter-server>=1.8->nbclassic>=0.4.7->notebook->jupyter->tensorflow-object-detection-api) (1.4.2)\n",
      "Requirement already satisfied: cffi>=1.0.1 in d:\\detection\\odas\\lib\\site-packages (from argon2-cffi-bindings->argon2-cffi->notebook->jupyter->tensorflow-object-detection-api) (1.15.1)\n",
      "Requirement already satisfied: executing>=1.2.0 in d:\\detection\\odas\\lib\\site-packages (from stack-data->ipython>=7.23.1->ipykernel->jupyter->tensorflow-object-detection-api) (1.2.0)\n",
      "Requirement already satisfied: pure-eval in d:\\detection\\odas\\lib\\site-packages (from stack-data->ipython>=7.23.1->ipykernel->jupyter->tensorflow-object-detection-api) (0.2.2)\n",
      "Requirement already satisfied: asttokens>=2.1.0 in d:\\detection\\odas\\lib\\site-packages (from stack-data->ipython>=7.23.1->ipykernel->jupyter->tensorflow-object-detection-api) (2.2.1)\n",
      "Requirement already satisfied: sniffio>=1.1 in d:\\detection\\odas\\lib\\site-packages (from anyio<4,>=3.1.0->jupyter-server>=1.8->nbclassic>=0.4.7->notebook->jupyter->tensorflow-object-detection-api) (1.3.0)\n",
      "Requirement already satisfied: pycparser in d:\\detection\\odas\\lib\\site-packages (from cffi>=1.0.1->argon2-cffi-bindings->argon2-cffi->notebook->jupyter->tensorflow-object-detection-api) (2.21)\n",
      "Requirement already satisfied: pyyaml in d:\\detection\\odas\\lib\\site-packages (from jupyter-events>=0.4.0->jupyter-server>=1.8->nbclassic>=0.4.7->notebook->jupyter->tensorflow-object-detection-api) (6.0)\n",
      "Requirement already satisfied: python-json-logger in d:\\detection\\odas\\lib\\site-packages (from jupyter-events>=0.4.0->jupyter-server>=1.8->nbclassic>=0.4.7->notebook->jupyter->tensorflow-object-detection-api) (2.0.4)\n",
      "Requirement already satisfied: pyasn1<0.5.0,>=0.4.6 in d:\\detection\\odas\\lib\\site-packages (from pyasn1-modules>=0.2.1->google-auth<3,>=1.6.3->tensorboard<2.12,>=2.11->tensorflow-intel==2.11.0->tensorflow->tensorflow-object-detection-api) (0.4.8)\n",
      "Requirement already satisfied: oauthlib>=3.0.0 in d:\\detection\\odas\\lib\\site-packages (from requests-oauthlib>=0.7.0->google-auth-oauthlib<0.5,>=0.4.1->tensorboard<2.12,>=2.11->tensorflow-intel==2.11.0->tensorflow->tensorflow-object-detection-api) (3.2.2)\n",
      "Requirement already satisfied: jsonpointer>1.13 in d:\\detection\\odas\\lib\\site-packages (from jsonschema>=2.6->nbformat>=5.1->nbconvert->jupyter->tensorflow-object-detection-api) (2.3)\n",
      "Requirement already satisfied: rfc3339-validator in d:\\detection\\odas\\lib\\site-packages (from jsonschema>=2.6->nbformat>=5.1->nbconvert->jupyter->tensorflow-object-detection-api) (0.1.4)\n",
      "Requirement already satisfied: webcolors>=1.11 in d:\\detection\\odas\\lib\\site-packages (from jsonschema>=2.6->nbformat>=5.1->nbconvert->jupyter->tensorflow-object-detection-api) (1.12)\n",
      "Requirement already satisfied: uri-template in d:\\detection\\odas\\lib\\site-packages (from jsonschema>=2.6->nbformat>=5.1->nbconvert->jupyter->tensorflow-object-detection-api) (1.2.0)\n",
      "Requirement already satisfied: fqdn in d:\\detection\\odas\\lib\\site-packages (from jsonschema>=2.6->nbformat>=5.1->nbconvert->jupyter->tensorflow-object-detection-api) (1.5.1)\n",
      "Requirement already satisfied: rfc3986-validator>0.1.0 in d:\\detection\\odas\\lib\\site-packages (from jsonschema>=2.6->nbformat>=5.1->nbconvert->jupyter->tensorflow-object-detection-api) (0.1.1)\n",
      "Requirement already satisfied: isoduration in d:\\detection\\odas\\lib\\site-packages (from jsonschema>=2.6->nbformat>=5.1->nbconvert->jupyter->tensorflow-object-detection-api) (20.11.0)\n",
      "Requirement already satisfied: arrow>=0.15.0 in d:\\detection\\odas\\lib\\site-packages (from isoduration->jsonschema>=2.6->nbformat>=5.1->nbconvert->jupyter->tensorflow-object-detection-api) (1.2.3)\n",
      "Building wheels for collected packages: tensorflow-object-detection-api\n",
      "  Building wheel for tensorflow-object-detection-api (setup.py): started\n",
      "  Building wheel for tensorflow-object-detection-api (setup.py): finished with status 'done'\n",
      "  Created wheel for tensorflow-object-detection-api: filename=tensorflow_object_detection_api-0.1.1-py3-none-any.whl size=844491 sha256=6e2e6fa7009aae28130f9d0202dcb925f72e58cd77ed66b9addee5d55a6b83df\n",
      "  Stored in directory: c:\\users\\dhruv\\appdata\\local\\pip\\cache\\wheels\\ce\\f8\\84\\54f82b9b53e64ef3dd0df13ed5fb5f2fdd3479406f58d0cfd8\n",
      "Successfully built tensorflow-object-detection-api\n",
      "Installing collected packages: commonmark, tensorflow-estimator, rich, rfc3986, pkginfo, keras, requests-toolbelt, readme-renderer, twine, tensorboard, notebook, jupyter, tensorflow-object-detection-api\n",
      "  Attempting uninstall: tensorflow-estimator\n",
      "    Found existing installation: tensorflow-estimator 2.10.0\n",
      "    Uninstalling tensorflow-estimator-2.10.0:\n",
      "      Successfully uninstalled tensorflow-estimator-2.10.0\n",
      "  Attempting uninstall: keras\n",
      "    Found existing installation: keras 2.10.0\n",
      "    Uninstalling keras-2.10.0:\n",
      "      Successfully uninstalled keras-2.10.0\n",
      "  Attempting uninstall: tensorboard\n",
      "    Found existing installation: tensorboard 2.10.1\n",
      "    Uninstalling tensorboard-2.10.1:\n",
      "      Successfully uninstalled tensorboard-2.10.1\n",
      "Successfully installed commonmark-0.9.1 jupyter-1.0.0 keras-2.11.0 notebook-6.5.2 pkginfo-1.9.6 readme-renderer-37.3 requests-toolbelt-0.10.1 rfc3986-2.0.0 rich-13.0.1 tensorboard-2.11.0 tensorflow-estimator-2.11.0 tensorflow-object-detection-api-0.1.1 twine-4.0.2\n"
     ]
    },
    {
     "name": "stderr",
     "output_type": "stream",
     "text": [
      "ERROR: pip's dependency resolver does not currently take into account all the packages that are installed. This behaviour is the source of the following dependency conflicts.\n",
      "tensorflow-gpu 2.10.1 requires keras<2.11,>=2.10.0, but you have keras 2.11.0 which is incompatible.\n",
      "tensorflow-gpu 2.10.1 requires tensorboard<2.11,>=2.10, but you have tensorboard 2.11.0 which is incompatible.\n",
      "tensorflow-gpu 2.10.1 requires tensorflow-estimator<2.11,>=2.10.0, but you have tensorflow-estimator 2.11.0 which is incompatible.\n"
     ]
    }
   ],
   "source": [
    "!pip install tensorflow-object-detection-api"
   ]
  },
  {
   "cell_type": "code",
   "execution_count": 37,
   "id": "37835237",
   "metadata": {},
   "outputs": [
    {
     "name": "stderr",
     "output_type": "stream",
     "text": [
      "Traceback (most recent call last):\n",
      "  File \"D:\\Detection\\models\\research\\object_detection\\builders\\model_builder_tf2_test.py\", line 21, in <module>\n",
      "    import tensorflow.compat.v1 as tf\n",
      "  File \"D:\\Detection\\odas\\lib\\site-packages\\tensorflow\\__init__.py\", line 469, in <module>\n",
      "    _keras._load()\n",
      "  File \"D:\\Detection\\odas\\lib\\site-packages\\tensorflow\\python\\util\\lazy_loader.py\", line 41, in _load\n",
      "    module = importlib.import_module(self.__name__)\n",
      "  File \"D:\\Detection\\odas\\lib\\importlib\\__init__.py\", line 126, in import_module\n",
      "    return _bootstrap._gcd_import(name[level:], package, level)\n",
      "  File \"D:\\Detection\\odas\\lib\\site-packages\\keras\\__init__.py\", line 21, in <module>\n",
      "    from keras import models\n",
      "  File \"D:\\Detection\\odas\\lib\\site-packages\\keras\\models\\__init__.py\", line 18, in <module>\n",
      "    from keras.engine.functional import Functional\n",
      "  File \"D:\\Detection\\odas\\lib\\site-packages\\keras\\engine\\functional.py\", line 34, in <module>\n",
      "    from keras.engine import training as training_lib\n",
      "  File \"D:\\Detection\\odas\\lib\\site-packages\\keras\\engine\\training.py\", line 45, in <module>\n",
      "    from keras.saving.legacy import save\n",
      "  File \"D:\\Detection\\odas\\lib\\site-packages\\keras\\saving\\legacy\\save.py\", line 24, in <module>\n",
      "    from keras.saving.legacy.saved_model import load_context\n",
      "  File \"D:\\Detection\\odas\\lib\\site-packages\\keras\\saving\\legacy\\saved_model\\load_context.py\", line 68, in <module>\n",
      "    tf.__internal__.register_load_context_function(in_load_context)\n",
      "AttributeError: module 'tensorflow.compat.v2.__internal__' has no attribute 'register_load_context_function'. Did you mean: 'register_call_context_function'?\n"
     ]
    }
   ],
   "source": [
    "!python object_detection/builders/model_builder_tf2_test.py"
   ]
  },
  {
   "cell_type": "code",
   "execution_count": null,
   "id": "1f3d374a",
   "metadata": {},
   "outputs": [],
   "source": []
  }
 ],
 "metadata": {
  "kernelspec": {
   "display_name": "tensorflow",
   "language": "python",
   "name": "tensorflow"
  },
  "language_info": {
   "codemirror_mode": {
    "name": "ipython",
    "version": 3
   },
   "file_extension": ".py",
   "mimetype": "text/x-python",
   "name": "python",
   "nbconvert_exporter": "python",
   "pygments_lexer": "ipython3",
   "version": "3.10.8"
  }
 },
 "nbformat": 4,
 "nbformat_minor": 5
}
